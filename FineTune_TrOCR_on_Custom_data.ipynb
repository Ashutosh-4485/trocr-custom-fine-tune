{
  "cells": [
    {
      "cell_type": "markdown",
      "metadata": {
        "id": "SdrgsEf08Vgh"
      },
      "source": [
        "## Fine-tune TrOCR on a Custom Dataset\n",
        "\n",
        "This notebook demonstrates how to fine-tune the HuggingFace version of TrOCR using a custom dataset of handwritten text images and transcriptions. It includes optional support for freezing encoder or decoder layers during training.\n",
        "\n",
        "## Set-up environment\n",
        "First, let's install all required libraries:"
      ]
    },
    {
      "cell_type": "code",
      "execution_count": null,
      "metadata": {
        "id": "pkSzlRJq68tH",
        "scrolled": true
      },
      "outputs": [],
      "source": [
        "!pip install -q transformers\n",
        "!pip install -q sentencepiece\n",
        "!pip install -q jiwer\n",
        "!pip install -q datasets\n",
        "!pip install -q evaluate\n",
        "!pip install -q -U accelerate\n",
        "\n",
        "!pip install -q matplotlib\n",
        "!pip install -q protobuf==3.20.1\n",
        "!pip install -q tensorboard"
      ]
    },
    {
      "cell_type": "markdown",
      "source": [
        "##  Upload and extract your dataset (image folder) in Colab"
      ],
      "metadata": {
        "id": "nVapjvr9yYMr"
      }
    },
    {
      "cell_type": "code",
      "source": [
        "!unzip \"/content/cropped.zip\""
      ],
      "metadata": {
        "id": "whFAuH0KybIr"
      },
      "execution_count": null,
      "outputs": []
    },
    {
      "cell_type": "markdown",
      "metadata": {
        "id": "L0kU3VvS8Vgn"
      },
      "source": [
        "## Imports"
      ]
    },
    {
      "cell_type": "code",
      "execution_count": null,
      "metadata": {
        "id": "8LYK528c8Vgn",
        "outputId": "3155f27b-a510-4624-9d75-133bcabd494a"
      },
      "outputs": [
        {
          "name": "stderr",
          "output_type": "stream",
          "text": [
            "c:\\Users\\ASHUTOSH\\.conda\\envs\\test\\lib\\site-packages\\tqdm\\auto.py:21: TqdmWarning: IProgress not found. Please update jupyter and ipywidgets. See https://ipywidgets.readthedocs.io/en/stable/user_install.html\n",
            "  from .autonotebook import tqdm as notebook_tqdm\n"
          ]
        }
      ],
      "source": [
        "import os\n",
        "import torch\n",
        "import evaluate\n",
        "import numpy as np\n",
        "import pandas as pd\n",
        "import glob as glob\n",
        "import torch.optim as optim\n",
        "import matplotlib.pyplot as plt\n",
        "import torchvision.transforms as transforms\n",
        "\n",
        "from PIL import Image\n",
        "from zipfile import ZipFile\n",
        "from tqdm.notebook import tqdm\n",
        "from dataclasses import dataclass\n",
        "from torch.utils.data import Dataset\n",
        "from urllib.request import urlretrieve\n",
        "from transformers import (\n",
        "    VisionEncoderDecoderModel,\n",
        "    TrOCRProcessor,\n",
        "    Seq2SeqTrainer,\n",
        "    Seq2SeqTrainingArguments,\n",
        "    default_data_collator\n",
        ")\n",
        "\n",
        "block_plot = False\n",
        "plt.rcParams['figure.figsize'] = (12, 9)"
      ]
    },
    {
      "cell_type": "code",
      "execution_count": null,
      "metadata": {
        "id": "ozD2Es2B5pAh"
      },
      "outputs": [],
      "source": [
        "bold = f\"\\033[1m\"\n",
        "reset = f\"\\033[0m\""
      ]
    },
    {
      "cell_type": "code",
      "execution_count": null,
      "metadata": {
        "id": "HiYvg5Kq8Vgp"
      },
      "outputs": [],
      "source": [
        "def seed_everything(seed_value):\n",
        "    np.random.seed(seed_value)\n",
        "    torch.manual_seed(seed_value)\n",
        "    torch.cuda.manual_seed_all(seed_value)\n",
        "    torch.backends.cudnn.deterministic = True\n",
        "    torch.backends.cudnn.benchmark = False\n",
        "\n",
        "seed_everything(42)"
      ]
    },
    {
      "cell_type": "code",
      "execution_count": null,
      "metadata": {
        "id": "8dcLhOUO8Vgr"
      },
      "outputs": [],
      "source": [
        "device = torch.device('cuda' if torch.cuda.is_available() else 'cpu')"
      ]
    },
    {
      "cell_type": "code",
      "execution_count": null,
      "metadata": {
        "id": "72k6fxYLyAZ6"
      },
      "outputs": [],
      "source": [
        "df=pd.read_csv(r\"/content/final_data.csv\")"
      ]
    },
    {
      "cell_type": "code",
      "execution_count": null,
      "metadata": {
        "id": "VgIV5T9JyAZ7"
      },
      "outputs": [],
      "source": [
        "df=df[(df[\"total\"]>=30) & (df[\"total\"]<=50)]"
      ]
    },
    {
      "cell_type": "markdown",
      "source": [
        "### Shuffle and splitting the data in train,test and validation set"
      ],
      "metadata": {
        "id": "ZfaQSF7myy2t"
      }
    },
    {
      "cell_type": "code",
      "execution_count": null,
      "metadata": {
        "id": "s7s4qk-_yAZ7",
        "outputId": "acdeec31-3540-42e0-a5f3-c3c6392ac8d8"
      },
      "outputs": [
        {
          "data": {
            "text/html": [
              "<div>\n",
              "<style scoped>\n",
              "    .dataframe tbody tr th:only-of-type {\n",
              "        vertical-align: middle;\n",
              "    }\n",
              "\n",
              "    .dataframe tbody tr th {\n",
              "        vertical-align: top;\n",
              "    }\n",
              "\n",
              "    .dataframe thead th {\n",
              "        text-align: right;\n",
              "    }\n",
              "</style>\n",
              "<table border=\"1\" class=\"dataframe\">\n",
              "  <thead>\n",
              "    <tr style=\"text-align: right;\">\n",
              "      <th></th>\n",
              "      <th>imscanno</th>\n",
              "      <th>individual_total</th>\n",
              "      <th>total</th>\n",
              "      <th>flg</th>\n",
              "      <th>barcode</th>\n",
              "    </tr>\n",
              "  </thead>\n",
              "  <tbody>\n",
              "    <tr>\n",
              "      <th>6501</th>\n",
              "      <td>217223</td>\n",
              "      <td>41</td>\n",
              "      <td>41</td>\n",
              "      <td>True</td>\n",
              "      <td>727996.0</td>\n",
              "    </tr>\n",
              "    <tr>\n",
              "      <th>8350</th>\n",
              "      <td>214704</td>\n",
              "      <td>36</td>\n",
              "      <td>36</td>\n",
              "      <td>True</td>\n",
              "      <td>978480.0</td>\n",
              "    </tr>\n",
              "    <tr>\n",
              "      <th>9135</th>\n",
              "      <td>212468</td>\n",
              "      <td>50</td>\n",
              "      <td>50</td>\n",
              "      <td>True</td>\n",
              "      <td>830705.0</td>\n",
              "    </tr>\n",
              "    <tr>\n",
              "      <th>2255</th>\n",
              "      <td>413124</td>\n",
              "      <td>42</td>\n",
              "      <td>42</td>\n",
              "      <td>True</td>\n",
              "      <td>1039113.0</td>\n",
              "    </tr>\n",
              "  </tbody>\n",
              "</table>\n",
              "</div>"
            ],
            "text/plain": [
              "      imscanno  individual_total  total   flg    barcode\n",
              "6501    217223                41     41  True   727996.0\n",
              "8350    214704                36     36  True   978480.0\n",
              "9135    212468                50     50  True   830705.0\n",
              "2255    413124                42     42  True  1039113.0"
            ]
          },
          "execution_count": 8,
          "metadata": {},
          "output_type": "execute_result"
        }
      ],
      "source": [
        "shuffled_df = df.sample(frac=1).reset_index(drop=True)\n",
        "shuffled_df=shuffled_df.iloc[:,:5]\n",
        "shuffled_df.sample(4)"
      ]
    },
    {
      "cell_type": "code",
      "execution_count": null,
      "metadata": {
        "id": "dp5AweUGyAZ7",
        "outputId": "0bfd1418-368f-4092-f21c-032ba8ad18fa"
      },
      "outputs": [
        {
          "data": {
            "text/plain": [
              "(10500, 6)"
            ]
          },
          "execution_count": 12,
          "metadata": {},
          "output_type": "execute_result"
        }
      ],
      "source": [
        "shuffled_df.shape"
      ]
    },
    {
      "cell_type": "code",
      "execution_count": null,
      "metadata": {
        "id": "dc58YF2tyAZ7",
        "outputId": "4175f4b7-5db3-4612-c411-cc6b57259654"
      },
      "outputs": [
        {
          "data": {
            "text/plain": [
              "((7349, 6), (1576, 6), (1575, 6))"
            ]
          },
          "execution_count": 15,
          "metadata": {},
          "output_type": "execute_result"
        }
      ],
      "source": [
        "train_df=shuffled_df[:part1]\n",
        "test_df=shuffled_df[part1:part2]\n",
        "valid_df=shuffled_df[part2:]\n",
        "train_df.shape,test_df.shape,valid_df.shape"
      ]
    },
    {
      "cell_type": "markdown",
      "metadata": {
        "id": "mxZc4nva8Vgu"
      },
      "source": [
        "## Training and Dataset Configurations"
      ]
    },
    {
      "cell_type": "code",
      "execution_count": null,
      "metadata": {
        "id": "E6HjTTJD8Vgu"
      },
      "outputs": [],
      "source": [
        "@dataclass(frozen=True)\n",
        "class TrainingConfig:\n",
        "    BATCH_SIZE:    int = 10\n",
        "    EPOCHS:        int = 10\n",
        "    LEARNING_RATE: float = 0.00005\n",
        "\n",
        "@dataclass(frozen=True)\n",
        "class DatasetConfig:\n",
        "    DATA_ROOT:     str = 'conten/croppe/cropped//'\n",
        "\n",
        "@dataclass(frozen=True)\n",
        "class ModelConfig:\n",
        "    MODEL_NAME: str = 'microsoft/trocr-small-handwritten'"
      ]
    },
    {
      "cell_type": "code",
      "execution_count": null,
      "metadata": {
        "colab": {
          "base_uri": "https://localhost:8080/",
          "height": 206
        },
        "id": "S3tO7b_7WKAT",
        "outputId": "48a79c48-974c-4a49-aa8f-3d94b08ea044"
      },
      "outputs": [
        {
          "data": {
            "text/html": [
              "<div>\n",
              "<style scoped>\n",
              "    .dataframe tbody tr th:only-of-type {\n",
              "        vertical-align: middle;\n",
              "    }\n",
              "\n",
              "    .dataframe tbody tr th {\n",
              "        vertical-align: top;\n",
              "    }\n",
              "\n",
              "    .dataframe thead th {\n",
              "        text-align: right;\n",
              "    }\n",
              "</style>\n",
              "<table border=\"1\" class=\"dataframe\">\n",
              "  <thead>\n",
              "    <tr style=\"text-align: right;\">\n",
              "      <th></th>\n",
              "      <th>imscanno</th>\n",
              "      <th>individual_total</th>\n",
              "      <th>total</th>\n",
              "      <th>flg</th>\n",
              "      <th>barcode</th>\n",
              "      <th>words</th>\n",
              "    </tr>\n",
              "  </thead>\n",
              "  <tbody>\n",
              "    <tr>\n",
              "      <th>0</th>\n",
              "      <td>219200</td>\n",
              "      <td>47</td>\n",
              "      <td>47</td>\n",
              "      <td>True</td>\n",
              "      <td>721843.0</td>\n",
              "      <td>Forty Seven</td>\n",
              "    </tr>\n",
              "    <tr>\n",
              "      <th>1</th>\n",
              "      <td>405154</td>\n",
              "      <td>33</td>\n",
              "      <td>33</td>\n",
              "      <td>True</td>\n",
              "      <td>956726.0</td>\n",
              "      <td>Thirty Three</td>\n",
              "    </tr>\n",
              "    <tr>\n",
              "      <th>2</th>\n",
              "      <td>411881</td>\n",
              "      <td>33</td>\n",
              "      <td>33</td>\n",
              "      <td>True</td>\n",
              "      <td>995771.0</td>\n",
              "      <td>Thirty Three</td>\n",
              "    </tr>\n",
              "    <tr>\n",
              "      <th>3</th>\n",
              "      <td>227063</td>\n",
              "      <td>35</td>\n",
              "      <td>35</td>\n",
              "      <td>True</td>\n",
              "      <td>702784.0</td>\n",
              "      <td>Thirty Five</td>\n",
              "    </tr>\n",
              "    <tr>\n",
              "      <th>4</th>\n",
              "      <td>217091</td>\n",
              "      <td>34</td>\n",
              "      <td>34</td>\n",
              "      <td>True</td>\n",
              "      <td>696003.0</td>\n",
              "      <td>Thirty Four</td>\n",
              "    </tr>\n",
              "  </tbody>\n",
              "</table>\n",
              "</div>"
            ],
            "text/plain": [
              "   imscanno  individual_total  total   flg   barcode         words\n",
              "0    219200                47     47  True  721843.0   Forty Seven\n",
              "1    405154                33     33  True  956726.0  Thirty Three\n",
              "2    411881                33     33  True  995771.0  Thirty Three\n",
              "3    227063                35     35  True  702784.0   Thirty Five\n",
              "4    217091                34     34  True  696003.0   Thirty Four"
            ]
          },
          "execution_count": 17,
          "metadata": {},
          "output_type": "execute_result"
        }
      ],
      "source": [
        "train_df.head()"
      ]
    },
    {
      "cell_type": "code",
      "execution_count": null,
      "metadata": {
        "colab": {
          "base_uri": "https://localhost:8080/",
          "height": 206
        },
        "id": "Ds-O9u_tWKAT",
        "outputId": "5d3950c9-2213-4d94-e22d-0e5128343d81"
      },
      "outputs": [
        {
          "data": {
            "text/html": [
              "<div>\n",
              "<style scoped>\n",
              "    .dataframe tbody tr th:only-of-type {\n",
              "        vertical-align: middle;\n",
              "    }\n",
              "\n",
              "    .dataframe tbody tr th {\n",
              "        vertical-align: top;\n",
              "    }\n",
              "\n",
              "    .dataframe thead th {\n",
              "        text-align: right;\n",
              "    }\n",
              "</style>\n",
              "<table border=\"1\" class=\"dataframe\">\n",
              "  <thead>\n",
              "    <tr style=\"text-align: right;\">\n",
              "      <th></th>\n",
              "      <th>imscanno</th>\n",
              "      <th>individual_total</th>\n",
              "      <th>total</th>\n",
              "      <th>flg</th>\n",
              "      <th>barcode</th>\n",
              "      <th>words</th>\n",
              "    </tr>\n",
              "  </thead>\n",
              "  <tbody>\n",
              "    <tr>\n",
              "      <th>7349</th>\n",
              "      <td>412659</td>\n",
              "      <td>36</td>\n",
              "      <td>36</td>\n",
              "      <td>True</td>\n",
              "      <td>719484.0</td>\n",
              "      <td>Thirty Six</td>\n",
              "    </tr>\n",
              "    <tr>\n",
              "      <th>7350</th>\n",
              "      <td>227329</td>\n",
              "      <td>34</td>\n",
              "      <td>34</td>\n",
              "      <td>True</td>\n",
              "      <td>783333.0</td>\n",
              "      <td>Thirty Four</td>\n",
              "    </tr>\n",
              "    <tr>\n",
              "      <th>7351</th>\n",
              "      <td>220573</td>\n",
              "      <td>35</td>\n",
              "      <td>35</td>\n",
              "      <td>True</td>\n",
              "      <td>974182.0</td>\n",
              "      <td>Thirty Five</td>\n",
              "    </tr>\n",
              "    <tr>\n",
              "      <th>7352</th>\n",
              "      <td>228614</td>\n",
              "      <td>41</td>\n",
              "      <td>41</td>\n",
              "      <td>True</td>\n",
              "      <td>844496.0</td>\n",
              "      <td>Forty One</td>\n",
              "    </tr>\n",
              "    <tr>\n",
              "      <th>7353</th>\n",
              "      <td>220715</td>\n",
              "      <td>41</td>\n",
              "      <td>41</td>\n",
              "      <td>True</td>\n",
              "      <td>822575.0</td>\n",
              "      <td>Forty One</td>\n",
              "    </tr>\n",
              "  </tbody>\n",
              "</table>\n",
              "</div>"
            ],
            "text/plain": [
              "      imscanno  individual_total  total   flg   barcode        words\n",
              "7349    412659                36     36  True  719484.0   Thirty Six\n",
              "7350    227329                34     34  True  783333.0  Thirty Four\n",
              "7351    220573                35     35  True  974182.0  Thirty Five\n",
              "7352    228614                41     41  True  844496.0    Forty One\n",
              "7353    220715                41     41  True  822575.0    Forty One"
            ]
          },
          "execution_count": 18,
          "metadata": {},
          "output_type": "execute_result"
        }
      ],
      "source": [
        "test_df.head()"
      ]
    },
    {
      "cell_type": "code",
      "execution_count": null,
      "metadata": {
        "id": "OfQtW2jD8Vg0"
      },
      "outputs": [],
      "source": [
        "# Augmentations.\n",
        "train_transforms = transforms.Compose([\n",
        "    transforms.ColorJitter(brightness=.5, hue=.3),\n",
        "    transforms.GaussianBlur(kernel_size=(5, 9), sigma=(0.1, 5)),\n",
        "])"
      ]
    },
    {
      "cell_type": "code",
      "execution_count": null,
      "metadata": {
        "id": "qO5Q8WYp7DLx"
      },
      "outputs": [],
      "source": [
        "class CustomOCRDataset(Dataset):\n",
        "    def __init__(self, root_dir, df, processor, max_target_length=128):\n",
        "        self.root_dir = root_dir\n",
        "        self.df = df\n",
        "        self.processor = processor\n",
        "        self.max_target_length = max_target_length\n",
        "\n",
        "    def __len__(self):\n",
        "        return len(self.df)\n",
        "\n",
        "    def __getitem__(self, idx):\n",
        "        # The image file name.\n",
        "        file_name = self.df['imscanno'].iloc[idx]\n",
        "        text = self.df['words'].iloc[idx]\n",
        "       # Read the image, apply augmentations, and get the transformed pixels.\n",
        "        image = Image.open(self.root_dir+ str(file_name) + \"_cropped_0.jpg\").convert('RGB')\n",
        "        image = train_transforms(image)\n",
        "        pixel_values = self.processor(image, return_tensors='pt').pixel_values\n",
        "        # Pass the text through the tokenizer and get the labels,\n",
        "        labels = self.processor.tokenizer(\n",
        "            text,\n",
        "            padding='max_length',\n",
        "            max_length=self.max_target_length\n",
        "        ).input_ids\n",
        "        # We are using -100 as the padding token.\n",
        "        labels = [label if label != self.processor.tokenizer.pad_token_id else -100 for label in labels]\n",
        "        encoding = {\"pixel_values\": pixel_values.squeeze(), \"labels\": torch.tensor(labels)}\n",
        "        # print(encoding)\n",
        "        return encoding"
      ]
    },
    {
      "cell_type": "code",
      "execution_count": null,
      "metadata": {
        "id": "QRlZWXkoyAZ8",
        "outputId": "bdb55076-8f8a-4d17-a409-b8d577782edd"
      },
      "outputs": [
        {
          "name": "stderr",
          "output_type": "stream",
          "text": [
            "c:\\Users\\ASHUTOSH\\.conda\\envs\\test\\lib\\site-packages\\transformers\\tokenization_utils_base.py:1617: FutureWarning: `clean_up_tokenization_spaces` was not set. It will be set to `True` by default. This behavior will be deprecated in transformers v4.45, and will be then set to `False` by default. For more details check this issue: https://github.com/huggingface/transformers/issues/31884\n",
            "  warnings.warn(\n"
          ]
        }
      ],
      "source": [
        "processor = TrOCRProcessor.from_pretrained(ModelConfig.MODEL_NAME)\n",
        "train_dataset = CustomOCRDataset(\n",
        "    root_dir=os.path.join(DatasetConfig.DATA_ROOT),\n",
        "    df=train_df,\n",
        "    processor=processor\n",
        ")\n",
        "valid_dataset = CustomOCRDataset(\n",
        "    root_dir=os.path.join(DatasetConfig.DATA_ROOT),\n",
        "    df=test_df,\n",
        "    processor=processor\n",
        ")"
      ]
    },
    {
      "cell_type": "code",
      "execution_count": null,
      "metadata": {
        "colab": {
          "base_uri": "https://localhost:8080/"
        },
        "id": "PiwZLbMeLCfo",
        "outputId": "bb017959-f381-4f9e-a2c1-ddd3baca031a"
      },
      "outputs": [
        {
          "name": "stdout",
          "output_type": "stream",
          "text": [
            "Number of training examples: 7349\n",
            "Number of validation examples: 1576\n"
          ]
        }
      ],
      "source": [
        "print(\"Number of training examples:\", len(train_dataset))\n",
        "print(\"Number of validation examples:\", len(valid_dataset))"
      ]
    },
    {
      "cell_type": "code",
      "execution_count": null,
      "metadata": {
        "colab": {
          "base_uri": "https://localhost:8080/"
        },
        "id": "rwBNrfD78RA7",
        "outputId": "b2bb85a0-353c-4ba6-a3a2-ace94d733f8f"
      },
      "outputs": [
        {
          "name": "stdout",
          "output_type": "stream",
          "text": [
            "pixel_values torch.Size([3, 384, 384])\n",
            "labels torch.Size([128])\n"
          ]
        }
      ],
      "source": [
        "encoding = train_dataset[0]\n",
        "for k,v in encoding.items():\n",
        "    print(k, v.shape)"
      ]
    },
    {
      "cell_type": "markdown",
      "source": [
        " ## Dataset Preview"
      ],
      "metadata": {
        "id": "FPhXfsY60n-i"
      }
    },
    {
      "cell_type": "code",
      "execution_count": null,
      "metadata": {
        "colab": {
          "base_uri": "https://localhost:8080/",
          "height": 747
        },
        "id": "QzgOFgD4_7Kw",
        "outputId": "4907c103-1b3d-4d88-a489-3f7b37b83e7c"
      },
      "outputs": [
        {
          "data": {
            "text/plain": [
              "(np.float64(-0.5), np.float64(414.5), np.float64(112.5), np.float64(-0.5))"
            ]
          },
          "execution_count": 24,
          "metadata": {},
          "output_type": "execute_result"
        },
        {
          "data": {
            "image/png": "[encoded data removed]",
            "text/plain": [
              "<Figure size 1200x900 with 1 Axes>"
            ]
          },
          "metadata": {},
          "output_type": "display_data"
        }
      ],
      "source": [
        "image = Image.open(train_dataset.root_dir + str(train_df['imscanno'][0]) + \"_cropped_0.jpg\").convert(\"RGB\")\n",
        "image = train_transforms(image)\n",
        "plt.imshow(image)\n",
        "plt.axis('off')"
      ]
    },
    {
      "cell_type": "code",
      "execution_count": null,
      "metadata": {
        "colab": {
          "base_uri": "https://localhost:8080/"
        },
        "id": "vMtfkDia-8tQ",
        "outputId": "81fb7326-2ef5-43a8-c732-e7806834b764"
      },
      "outputs": [
        {
          "name": "stdout",
          "output_type": "stream",
          "text": [
            "Forty Seven\n"
          ]
        }
      ],
      "source": [
        "labels = encoding['labels']\n",
        "labels[labels == -100] = processor.tokenizer.pad_token_id\n",
        "label_str = processor.decode(labels, skip_special_tokens=True)\n",
        "print(label_str)"
      ]
    },
    {
      "cell_type": "markdown",
      "source": [
        "## TrOCR Architecture Summary\n",
        "1. Encoder: A Vision Transformer (ViT) processes the image and converts it into visual embeddings.\n",
        "\n",
        "2. Decoder: A language model (like GPT-2 or BART-style Transformer) generates text token by token from the encoder output."
      ],
      "metadata": {
        "id": "PYDMgC67zMp6"
      }
    },
    {
      "cell_type": "markdown",
      "metadata": {
        "id": "XxU7TfoYBvg0"
      },
      "source": [
        "## Initialize the Model"
      ]
    },
    {
      "cell_type": "markdown",
      "source": [
        "## Strategy 1: Train All Parameters (Encoder + Decoder)\n",
        "#### When to Use:\n",
        "1. Your dataset is very different from the original (e.g., new language, handwriting, new domain).\n",
        "\n",
        "2. You want maximum model flexibility.\n",
        "\n",
        "3. You have enough compute resources."
      ],
      "metadata": {
        "id": "VahrPQKxzQsa"
      }
    },
    {
      "cell_type": "code",
      "execution_count": null,
      "metadata": {
        "colab": {
          "base_uri": "https://localhost:8080/",
          "height": 1000,
          "referenced_widgets": [
            "819ca1230e574c91a3f47fbbf551e0d2",
            "1c0b250ec0594d008b0ea6016aa7daac",
            "9636d49865ee4e06890b03aac03ad9a2",
            "17ec8607823f4884b7cbeddb569ef301",
            "4171d68ec7c8406497dc0eb9201109de",
            "73eab676db4a498c8ed8c1bfc231b1ec",
            "bd672655e79a45f4b5c88681e0a73573",
            "6e21f92aebf44e3bb5d1ba78252e292a",
            "a8b9dfcceaf748c2906909db8074d19d",
            "9d0bd1c3f2104ffb87a7b5cae3827bb5",
            "3bce1248c9b74007a8474e466b20f371",
            "316ad79399c8445bb1ac8ae76b2e1a0a",
            "18c95b15743644b9990afa548066ba4d",
            "d0e23da546da42ada17980fe16bb2c8c",
            "ecc3e476985b4cd59ead7470eb888899",
            "1d2ff137c94d4cf38385746ec76ff2dc",
            "bb20ff91d04449f09d1131fff48ec394",
            "3a5bf1f3ac0e4ed28e73d10c00ecb0d2",
            "b0a199bec4ae4644aaed42aee664ecc3",
            "8755bd3e3c6d4326aeea862c311db1ce",
            "c4ad8fd009c74643a2237498099fedb6",
            "5af3ee5c42234d30bf211ec981f140e1",
            "e5e68858cfb24ff5bb743aaca5b4c530",
            "3e905dee5f524e0f9a98692dd16a23d7",
            "16f1827ddf2342f19282122ac868766d",
            "5e56ae6d205548168545937e81a803b5",
            "9e157ab805e34e24bd9f35f8a5edace6",
            "407376985acc4c8997fc950925c0784f",
            "d9c96000951a4e9eaed409c67d6a130f",
            "f4966e0395ae4763b7ed276836709e93",
            "d2764c5346734b288bf1377c692f23a8",
            "3b9b18917f024b7799c3af53647101c3",
            "dea810b298924fd980c18c4e31e48cb8"
          ]
        },
        "id": "bRhvTRrGBIfy",
        "outputId": "54381954-9872-4219-a320-1f4a2cbcf26a",
        "scrolled": true
      },
      "outputs": [
        {
          "name": "stderr",
          "output_type": "stream",
          "text": [
            "VisionEncoderDecoderModel has generative capabilities, as `prepare_inputs_for_generation` is explicitly overwritten. However, it doesn't directly inherit from `GenerationMixin`. From 👉v4.50👈 onwards, `PreTrainedModel` will NOT inherit from `GenerationMixin`, and this model will lose the ability to call `generate` and other related functions.\n",
            "  - If you're using `trust_remote_code=True`, you can get rid of this warning by loading the model with an auto class. See https://huggingface.co/docs/transformers/en/model_doc/auto#auto-classes\n",
            "  - If you are the owner of the model architecture code, please modify your model class such that it inherits from `GenerationMixin` (after `PreTrainedModel`, otherwise you'll get an exception).\n",
            "  - If you are not the owner of the model architecture class, please contact the model code owner to update it.\n",
            "Some weights of VisionEncoderDecoderModel were not initialized from the model checkpoint at microsoft/trocr-small-handwritten and are newly initialized: ['encoder.pooler.dense.bias', 'encoder.pooler.dense.weight']\n",
            "You should probably TRAIN this model on a down-stream task to be able to use it for predictions and inference.\n"
          ]
        },
        {
          "name": "stdout",
          "output_type": "stream",
          "text": [
            "VisionEncoderDecoderModel(\n",
            "  (encoder): DeiTModel(\n",
            "    (embeddings): DeiTEmbeddings(\n",
            "      (patch_embeddings): DeiTPatchEmbeddings(\n",
            "        (projection): Conv2d(3, 384, kernel_size=(16, 16), stride=(16, 16))\n",
            "      )\n",
            "      (dropout): Dropout(p=0.0, inplace=False)\n",
            "    )\n",
            "    (encoder): DeiTEncoder(\n",
            "      (layer): ModuleList(\n",
            "        (0-11): 12 x DeiTLayer(\n",
            "          (attention): DeiTAttention(\n",
            "            (attention): DeiTSelfAttention(\n",
            "              (query): Linear(in_features=384, out_features=384, bias=True)\n",
            "              (key): Linear(in_features=384, out_features=384, bias=True)\n",
            "              (value): Linear(in_features=384, out_features=384, bias=True)\n",
            "              (dropout): Dropout(p=0.0, inplace=False)\n",
            "            )\n",
            "            (output): DeiTSelfOutput(\n",
            "              (dense): Linear(in_features=384, out_features=384, bias=True)\n",
            "              (dropout): Dropout(p=0.0, inplace=False)\n",
            "            )\n",
            "          )\n",
            "          (intermediate): DeiTIntermediate(\n",
            "            (dense): Linear(in_features=384, out_features=1536, bias=True)\n",
            "            (intermediate_act_fn): GELUActivation()\n",
            "          )\n",
            "          (output): DeiTOutput(\n",
            "            (dense): Linear(in_features=1536, out_features=384, bias=True)\n",
            "            (dropout): Dropout(p=0.0, inplace=False)\n",
            "          )\n",
            "          (layernorm_before): LayerNorm((384,), eps=1e-12, elementwise_affine=True)\n",
            "          (layernorm_after): LayerNorm((384,), eps=1e-12, elementwise_affine=True)\n",
            "        )\n",
            "      )\n",
            "    )\n",
            "    (layernorm): LayerNorm((384,), eps=1e-12, elementwise_affine=True)\n",
            "    (pooler): DeiTPooler(\n",
            "      (dense): Linear(in_features=384, out_features=384, bias=True)\n",
            "      (activation): Tanh()\n",
            "    )\n",
            "  )\n",
            "  (decoder): TrOCRForCausalLM(\n",
            "    (model): TrOCRDecoderWrapper(\n",
            "      (decoder): TrOCRDecoder(\n",
            "        (embed_tokens): TrOCRScaledWordEmbedding(64044, 256, padding_idx=1)\n",
            "        (embed_positions): TrOCRLearnedPositionalEmbedding(514, 256)\n",
            "        (layernorm_embedding): LayerNorm((256,), eps=1e-05, elementwise_affine=True)\n",
            "        (layers): ModuleList(\n",
            "          (0-5): 6 x TrOCRDecoderLayer(\n",
            "            (self_attn): TrOCRAttention(\n",
            "              (k_proj): Linear(in_features=256, out_features=256, bias=True)\n",
            "              (v_proj): Linear(in_features=256, out_features=256, bias=True)\n",
            "              (q_proj): Linear(in_features=256, out_features=256, bias=True)\n",
            "              (out_proj): Linear(in_features=256, out_features=256, bias=True)\n",
            "            )\n",
            "            (activation_fn): ReLU()\n",
            "            (self_attn_layer_norm): LayerNorm((256,), eps=1e-05, elementwise_affine=True)\n",
            "            (encoder_attn): TrOCRAttention(\n",
            "              (k_proj): Linear(in_features=384, out_features=256, bias=True)\n",
            "              (v_proj): Linear(in_features=384, out_features=256, bias=True)\n",
            "              (q_proj): Linear(in_features=256, out_features=256, bias=True)\n",
            "              (out_proj): Linear(in_features=256, out_features=256, bias=True)\n",
            "            )\n",
            "            (encoder_attn_layer_norm): LayerNorm((256,), eps=1e-05, elementwise_affine=True)\n",
            "            (fc1): Linear(in_features=256, out_features=1024, bias=True)\n",
            "            (fc2): Linear(in_features=1024, out_features=256, bias=True)\n",
            "            (final_layer_norm): LayerNorm((256,), eps=1e-05, elementwise_affine=True)\n",
            "          )\n",
            "        )\n",
            "      )\n",
            "    )\n",
            "    (output_projection): Linear(in_features=256, out_features=64044, bias=False)\n",
            "  )\n",
            ")\n",
            "61,596,672 total parameters.\n",
            "61,596,672 training parameters.\n"
          ]
        }
      ],
      "source": [
        "model = VisionEncoderDecoderModel.from_pretrained(ModelConfig.MODEL_NAME)\n",
        "model.to(device)\n",
        "print(model)\n",
        "# Total parameters and trainable parameters.\n",
        "total_params = sum(p.numel() for p in model.parameters())\n",
        "print(f\"{total_params:,} total parameters.\")\n",
        "total_trainable_params = sum(\n",
        "    p.numel() for p in model.parameters() if p.requires_grad)\n",
        "print(f\"{total_trainable_params:,} training parameters.\")"
      ]
    },
    {
      "cell_type": "markdown",
      "source": [
        "## Strategy 2: Freeze Encoder, Train Only Decoder\n",
        "#### When to Use:\n",
        "1. You’re dealing with similar image types (e.g., printed English text) but different output formats.Example: Converting scanned English forms to structured JSON.\n",
        "\n",
        "2. You want the model to learn new language tasks."
      ],
      "metadata": {
        "id": "wbiHuBBMzZcb"
      }
    },
    {
      "cell_type": "code",
      "source": [
        "# # Load the pretrained model\n",
        "# model = VisionEncoderDecoderModel.from_pretrained(ModelConfig.MODEL_NAME)\n",
        "# # model.to(device)\n",
        "\n",
        "# # Freeze the encoder parameters to train only the decoder\n",
        "# for param in model.encoder.parameters():\n",
        "#     param.requires_grad = False\n",
        "\n",
        "# # Print the model to verify which parameters are frozen\n",
        "# print(model)\n",
        "\n",
        "# # Calculate and display total parameters and trainable parameters\n",
        "# total_params = sum(p.numel() for p in model.parameters())\n",
        "# print(f\"{total_params:,} total parameters.\")\n",
        "\n",
        "# total_trainable_params = sum(p.numel() for p in model.parameters() if p.requires_grad)\n",
        "# print(f\"{total_trainable_params:,} training parameters (decoder only).\")"
      ],
      "metadata": {
        "id": "PAXdErsqzayr"
      },
      "execution_count": null,
      "outputs": []
    },
    {
      "cell_type": "markdown",
      "source": [
        "## Strategy 3: Freeze Decoder, Train Only Encoder\n",
        "#### When to Use:\n",
        "1. You’re using new types of images (e.g., handwritten text, new fonts), but the language remains similar.Example: Printed-to-handwritten transfer within the same language.\n",
        "\n",
        "2. You want to preserve language modeling quality."
      ],
      "metadata": {
        "id": "ifhmCyoAzdzq"
      }
    },
    {
      "cell_type": "code",
      "source": [
        "# # Load the pretrained model\n",
        "# model = VisionEncoderDecoderModel.from_pretrained(ModelConfig.MODEL_NAME)\n",
        "# # model.to(device)  # Uncomment and move the model to GPU or CPU as needed\n",
        "\n",
        "# # Freeze decoder parameters (i.e., do NOT train decoder)\n",
        "# for param in model.decoder.parameters():\n",
        "#     param.requires_grad = False\n",
        "\n",
        "# # (Optional) Freeze the language model head (if you don't want to fine-tune it either)\n",
        "# if hasattr(model, 'lm_head'):\n",
        "#     for param in model.lm_head.parameters():\n",
        "#         param.requires_grad = False\n",
        "\n",
        "# # (Optional) Freeze cross-attention layers in decoder if necessary\n",
        "# if hasattr(model.decoder, \"encoder_attn\"):\n",
        "#     for param in model.decoder.encoder_attn.parameters():\n",
        "#         param.requires_grad = False\n",
        "\n",
        "# # Print model structure (to verify frozen parts)\n",
        "# print(model)\n",
        "\n",
        "# # Count total parameters\n",
        "# total_params = sum(p.numel() for p in model.parameters())\n",
        "# print(f\"{total_params:,} total parameters.\")\n",
        "\n",
        "# # Count only trainable parameters (encoder part)\n",
        "# total_trainable_params = sum(p.numel() for p in model.parameters() if p.requires_grad)\n",
        "# print(f\"{total_trainable_params:,} training parameters (encoder only).\")"
      ],
      "metadata": {
        "id": "BwB9s677zhHq"
      },
      "execution_count": null,
      "outputs": []
    },
    {
      "cell_type": "markdown",
      "source": [
        "## Strategy 4: Train Only Last N Layers of Both\n",
        "When to Use:\n",
        "1. You want to fine-tune efficiently with fewer trainable parameters.\n",
        "\n",
        "2. You’re adapting the model slightly (e.g., slight font/layout change or domain shift).\n",
        "\n",
        "3. You want to reduce overfitting or train on limited hardware."
      ],
      "metadata": {
        "id": "gCqizZRzzjKj"
      }
    },
    {
      "cell_type": "code",
      "source": [
        "# # Load pretrained TrOCR model\n",
        "# model = VisionEncoderDecoderModel.from_pretrained(ModelConfig.MODEL_NAME)\n",
        "\n",
        "# # Freeze all parameters\n",
        "# for param in model.parameters():\n",
        "#     param.requires_grad = False\n",
        "\n",
        "# # Unfreeze last N layers of encoder\n",
        "# N = 4  # Number of last layers to train\n",
        "\n",
        "# # Check and unfreeze encoder layers\n",
        "# if hasattr(model.encoder, \"encoder\") and hasattr(model.encoder.encoder, \"layer\"):\n",
        "#     encoder_layers = model.encoder.encoder.layer\n",
        "#     for layer in encoder_layers[-N:]:\n",
        "#         for param in layer.parameters():\n",
        "#             param.requires_grad = True\n",
        "# else:\n",
        "#     print(\"Warning: Could not find encoder layers. Check encoder structure.\")\n",
        "\n",
        "# # Unfreeze last N layers of decoder\n",
        "# if hasattr(model.decoder, \"model\") and hasattr(model.decoder.model, \"decoder\"):\n",
        "#     decoder_layers = model.decoder.model.decoder.layers\n",
        "#     for layer in decoder_layers[-N:]:\n",
        "#         for param in layer.parameters():\n",
        "#             param.requires_grad = True\n",
        "# else:\n",
        "#     print(\"Warning: Could not find decoder layers. Check decoder structure.\")\n",
        "\n",
        "# # Print parameter summary\n",
        "# total_params = sum(p.numel() for p in model.parameters())\n",
        "# trainable_params = sum(p.numel() for p in model.parameters() if p.requires_grad)\n",
        "# print(f\"Total Parameters: {total_params:,}\")\n",
        "# print(f\"Trainable Parameters (last {N} layers only): {trainable_params:,}\")\n"
      ],
      "metadata": {
        "id": "jwCOzVVUzmtS"
      },
      "execution_count": null,
      "outputs": []
    },
    {
      "cell_type": "markdown",
      "metadata": {
        "id": "2eIXdQx_8VhA"
      },
      "source": [
        "## Model Configurations"
      ]
    },
    {
      "cell_type": "code",
      "execution_count": null,
      "metadata": {
        "id": "sNNT1XS_CMgl"
      },
      "outputs": [],
      "source": [
        "# Set special tokens used for creating the decoder_input_ids from the labels.\n",
        "model.config.decoder_start_token_id = processor.tokenizer.cls_token_id\n",
        "model.config.pad_token_id = processor.tokenizer.pad_token_id\n",
        "# Set Correct vocab size.\n",
        "model.config.vocab_size = model.config.decoder.vocab_size\n",
        "model.config.eos_token_id = processor.tokenizer.sep_token_id\n",
        "\n",
        "# model.config.max_length = 20\n",
        "# model.config.early_stopping = True\n",
        "# model.config.no_repeat_ngram_size = 3\n",
        "# model.config.length_penalty = 2.0\n",
        "# model.config.num_beams = 4"
      ]
    },
    {
      "cell_type": "markdown",
      "metadata": {
        "id": "K7ixQ5we8VhA"
      },
      "source": [
        "We use the AdamW optimizer here with a weight decay of 0.0005."
      ]
    },
    {
      "cell_type": "code",
      "execution_count": null,
      "metadata": {
        "id": "m2YsrOv08VhB"
      },
      "outputs": [],
      "source": [
        "optimizer = optim.AdamW(\n",
        "    model.parameters(), lr=TrainingConfig.LEARNING_RATE, weight_decay=0.0005\n",
        ")"
      ]
    },
    {
      "cell_type": "markdown",
      "metadata": {
        "id": "5ZDHkmvG8VhB"
      },
      "source": [
        "## Evaluation Metric"
      ]
    },
    {
      "cell_type": "code",
      "execution_count": null,
      "metadata": {
        "id": "yoXD3_P10DD4"
      },
      "outputs": [],
      "source": [
        "cer_metric = evaluate.load('cer')"
      ]
    },
    {
      "cell_type": "code",
      "execution_count": null,
      "metadata": {
        "id": "Y36AcnvP0OZw"
      },
      "outputs": [],
      "source": [
        "def compute_cer(pred):\n",
        "    labels_ids = pred.label_ids\n",
        "    pred_ids = pred.predictions\n",
        "\n",
        "    pred_str = processor.batch_decode(pred_ids, skip_special_tokens=True)\n",
        "    labels_ids[labels_ids == -100] = processor.tokenizer.pad_token_id\n",
        "    label_str = processor.batch_decode(labels_ids, skip_special_tokens=True)\n",
        "\n",
        "    cer = cer_metric.compute(predictions=pred_str, references=label_str)\n",
        "\n",
        "    return {\"cer\": cer}"
      ]
    },
    {
      "cell_type": "markdown",
      "metadata": {
        "id": "mCl0xMRM8VhD"
      },
      "source": [
        "## Training and Validation Loops"
      ]
    },
    {
      "cell_type": "code",
      "execution_count": null,
      "metadata": {
        "id": "32IAm35yyAaB",
        "outputId": "f1fbdbfb-6537-4817-fd39-40ba1f8f00a5"
      },
      "outputs": [
        {
          "name": "stderr",
          "output_type": "stream",
          "text": [
            "c:\\Users\\ASHUTOSH\\.conda\\envs\\test\\lib\\site-packages\\transformers\\training_args.py:1545: FutureWarning: `evaluation_strategy` is deprecated and will be removed in version 4.46 of 🤗 Transformers. Use `eval_strategy` instead\n",
            "  warnings.warn(\n"
          ]
        }
      ],
      "source": [
        "training_args = Seq2SeqTrainingArguments(\n",
        "    predict_with_generate=True,\n",
        "    evaluation_strategy='epoch',\n",
        "    per_device_train_batch_size=TrainingConfig.BATCH_SIZE,\n",
        "    per_device_eval_batch_size=TrainingConfig.BATCH_SIZE,\n",
        "    fp16=True,\n",
        "    output_dir='seq2seq_model_printed/',\n",
        "    logging_strategy='epoch',\n",
        "    save_strategy='epoch',\n",
        "    save_total_limit=5,\n",
        "    report_to='tensorboard',\n",
        "    num_train_epochs=TrainingConfig.EPOCHS\n",
        ")"
      ]
    },
    {
      "cell_type": "code",
      "execution_count": null,
      "metadata": {
        "id": "Evs7yJFcyAaB",
        "outputId": "fca63be4-1893-42e5-f5b7-fe053d594d95"
      },
      "outputs": [
        {
          "name": "stderr",
          "output_type": "stream",
          "text": [
            "c:\\Users\\ASHUTOSH\\.conda\\envs\\test\\lib\\site-packages\\transformers\\models\\trocr\\processing_trocr.py:137: FutureWarning: `feature_extractor` is deprecated and will be removed in v5. Use `image_processor` instead.\n",
            "  warnings.warn(\n"
          ]
        }
      ],
      "source": [
        "# Initialize trainer.\n",
        "trainer = Seq2SeqTrainer(\n",
        "    model=model,\n",
        "    tokenizer=processor.feature_extractor,\n",
        "    args=training_args,\n",
        "    compute_metrics=compute_cer,\n",
        "    train_dataset=train_dataset,\n",
        "    eval_dataset=valid_dataset,\n",
        "    data_collator=default_data_collator\n",
        ")"
      ]
    },
    {
      "cell_type": "markdown",
      "metadata": {
        "id": "siJc9cabyAaB"
      },
      "source": [
        "## Train"
      ]
    },
    {
      "cell_type": "code",
      "execution_count": null,
      "metadata": {
        "id": "eu7LEu3dyAaB",
        "outputId": "1f0325d5-8999-4f81-b758-12150308e1af"
      },
      "outputs": [
        {
          "name": "stderr",
          "output_type": "stream",
          "text": [
            " 10%|█         | 735/7350 [1:22:46<11:40:59,  6.36s/it]"
          ]
        },
        {
          "name": "stdout",
          "output_type": "stream",
          "text": [
            "{'loss': 0.9029, 'grad_norm': 9.791276931762695, 'learning_rate': 4.5e-05, 'epoch': 1.0}\n"
          ]
        },
        {
          "name": "stderr",
          "output_type": "stream",
          "text": [
            "c:\\Users\\ASHUTOSH\\.conda\\envs\\test\\lib\\site-packages\\transformers\\generation\\utils.py:1220: UserWarning: Using the model-agnostic default `max_length` (=20) to control the generation length. We recommend setting `max_new_tokens` to control the maximum length of the generation.\n",
            "  warnings.warn(\n",
            "                                                       \n",
            " 10%|█         | 735/7350 [1:33:41<11:40:59,  6.36s/it]"
          ]
        },
        {
          "name": "stdout",
          "output_type": "stream",
          "text": [
            "{'eval_loss': 0.4477401077747345, 'eval_cer': 0.2651417525773196, 'eval_runtime': 655.0985, 'eval_samples_per_second': 2.406, 'eval_steps_per_second': 0.241, 'epoch': 1.0}\n"
          ]
        },
        {
          "name": "stderr",
          "output_type": "stream",
          "text": [
            " 20%|██        | 1470/7350 [2:55:09<10:25:27,  6.38s/it] "
          ]
        },
        {
          "name": "stdout",
          "output_type": "stream",
          "text": [
            "{'loss': 0.2113, 'grad_norm': 5.290979385375977, 'learning_rate': 4e-05, 'epoch': 2.0}\n"
          ]
        },
        {
          "name": "stderr",
          "output_type": "stream",
          "text": [
            "c:\\Users\\ASHUTOSH\\.conda\\envs\\test\\lib\\site-packages\\transformers\\generation\\utils.py:1220: UserWarning: Using the model-agnostic default `max_length` (=20) to control the generation length. We recommend setting `max_new_tokens` to control the maximum length of the generation.\n",
            "  warnings.warn(\n",
            "                                                        \n",
            " 20%|██        | 1470/7350 [3:05:54<10:25:27,  6.38s/it]"
          ]
        },
        {
          "name": "stdout",
          "output_type": "stream",
          "text": [
            "{'eval_loss': 0.12932780385017395, 'eval_cer': 0.06217783505154639, 'eval_runtime': 645.4029, 'eval_samples_per_second': 2.442, 'eval_steps_per_second': 0.245, 'epoch': 2.0}\n"
          ]
        },
        {
          "name": "stderr",
          "output_type": "stream",
          "text": [
            " 30%|███       | 2205/7350 [4:29:32<9:48:03,  6.86s/it]   "
          ]
        },
        {
          "name": "stdout",
          "output_type": "stream",
          "text": [
            "{'loss': 0.1095, 'grad_norm': 9.521843910217285, 'learning_rate': 3.5e-05, 'epoch': 3.0}\n"
          ]
        },
        {
          "name": "stderr",
          "output_type": "stream",
          "text": [
            "c:\\Users\\ASHUTOSH\\.conda\\envs\\test\\lib\\site-packages\\transformers\\generation\\utils.py:1220: UserWarning: Using the model-agnostic default `max_length` (=20) to control the generation length. We recommend setting `max_new_tokens` to control the maximum length of the generation.\n",
            "  warnings.warn(\n",
            "                                                       \n",
            " 30%|███       | 2205/7350 [4:40:31<9:48:03,  6.86s/it]"
          ]
        },
        {
          "name": "stdout",
          "output_type": "stream",
          "text": [
            "{'eval_loss': 0.09642406553030014, 'eval_cer': 0.06907216494845361, 'eval_runtime': 658.6058, 'eval_samples_per_second': 2.393, 'eval_steps_per_second': 0.24, 'epoch': 3.0}\n"
          ]
        },
        {
          "name": "stderr",
          "output_type": "stream",
          "text": [
            " 40%|████      | 2940/7350 [6:05:50<8:08:42,  6.65s/it]   "
          ]
        },
        {
          "name": "stdout",
          "output_type": "stream",
          "text": [
            "{'loss': 0.0737, 'grad_norm': 0.01341269537806511, 'learning_rate': 3e-05, 'epoch': 4.0}\n"
          ]
        },
        {
          "name": "stderr",
          "output_type": "stream",
          "text": [
            "c:\\Users\\ASHUTOSH\\.conda\\envs\\test\\lib\\site-packages\\transformers\\generation\\utils.py:1220: UserWarning: Using the model-agnostic default `max_length` (=20) to control the generation length. We recommend setting `max_new_tokens` to control the maximum length of the generation.\n",
            "  warnings.warn(\n",
            "                                                       \n",
            " 40%|████      | 2940/7350 [6:16:42<8:08:42,  6.65s/it]"
          ]
        },
        {
          "name": "stdout",
          "output_type": "stream",
          "text": [
            "{'eval_loss': 0.06433337926864624, 'eval_cer': 0.03240979381443299, 'eval_runtime': 652.1, 'eval_samples_per_second': 2.417, 'eval_steps_per_second': 0.242, 'epoch': 4.0}\n"
          ]
        },
        {
          "name": "stderr",
          "output_type": "stream",
          "text": [
            " 50%|█████     | 3675/7350 [7:42:11<6:52:50,  6.74s/it]   "
          ]
        },
        {
          "name": "stdout",
          "output_type": "stream",
          "text": [
            "{'loss': 0.054, 'grad_norm': 0.19493266940116882, 'learning_rate': 2.5e-05, 'epoch': 5.0}\n"
          ]
        },
        {
          "name": "stderr",
          "output_type": "stream",
          "text": [
            "c:\\Users\\ASHUTOSH\\.conda\\envs\\test\\lib\\site-packages\\transformers\\generation\\utils.py:1220: UserWarning: Using the model-agnostic default `max_length` (=20) to control the generation length. We recommend setting `max_new_tokens` to control the maximum length of the generation.\n",
            "  warnings.warn(\n",
            "                                                       \n",
            " 50%|█████     | 3675/7350 [7:53:06<6:52:50,  6.74s/it]"
          ]
        },
        {
          "name": "stdout",
          "output_type": "stream",
          "text": [
            "{'eval_loss': 0.05764089152216911, 'eval_cer': 0.030670103092783504, 'eval_runtime': 655.6217, 'eval_samples_per_second': 2.404, 'eval_steps_per_second': 0.241, 'epoch': 5.0}\n"
          ]
        },
        {
          "name": "stderr",
          "output_type": "stream",
          "text": [
            " 60%|██████    | 4410/7350 [9:19:01<5:31:12,  6.76s/it]   "
          ]
        },
        {
          "name": "stdout",
          "output_type": "stream",
          "text": [
            "{'loss': 0.0343, 'grad_norm': 0.5212064981460571, 'learning_rate': 2e-05, 'epoch': 6.0}\n"
          ]
        },
        {
          "name": "stderr",
          "output_type": "stream",
          "text": [
            "c:\\Users\\ASHUTOSH\\.conda\\envs\\test\\lib\\site-packages\\transformers\\generation\\utils.py:1220: UserWarning: Using the model-agnostic default `max_length` (=20) to control the generation length. We recommend setting `max_new_tokens` to control the maximum length of the generation.\n",
            "  warnings.warn(\n",
            "                                                       \n",
            " 60%|██████    | 4410/7350 [9:30:02<5:31:12,  6.76s/it]"
          ]
        },
        {
          "name": "stdout",
          "output_type": "stream",
          "text": [
            "{'eval_loss': 0.06900147348642349, 'eval_cer': 0.04394329896907216, 'eval_runtime': 661.0965, 'eval_samples_per_second': 2.384, 'eval_steps_per_second': 0.239, 'epoch': 6.0}\n"
          ]
        },
        {
          "name": "stderr",
          "output_type": "stream",
          "text": [
            " 70%|███████   | 5145/7350 [10:57:11<4:08:38,  6.77s/it]  "
          ]
        },
        {
          "name": "stdout",
          "output_type": "stream",
          "text": [
            "{'loss': 0.0248, 'grad_norm': 0.005898377392441034, 'learning_rate': 1.5e-05, 'epoch': 7.0}\n"
          ]
        },
        {
          "name": "stderr",
          "output_type": "stream",
          "text": [
            "c:\\Users\\ASHUTOSH\\.conda\\envs\\test\\lib\\site-packages\\transformers\\generation\\utils.py:1220: UserWarning: Using the model-agnostic default `max_length` (=20) to control the generation length. We recommend setting `max_new_tokens` to control the maximum length of the generation.\n",
            "  warnings.warn(\n",
            "                                                        \n",
            " 70%|███████   | 5145/7350 [11:08:12<4:08:38,  6.77s/it]"
          ]
        },
        {
          "name": "stdout",
          "output_type": "stream",
          "text": [
            "{'eval_loss': 0.042948175221681595, 'eval_cer': 0.023195876288659795, 'eval_runtime': 660.9019, 'eval_samples_per_second': 2.385, 'eval_steps_per_second': 0.239, 'epoch': 7.0}\n"
          ]
        },
        {
          "name": "stderr",
          "output_type": "stream",
          "text": [
            " 80%|████████  | 5880/7350 [12:34:04<2:45:07,  6.74s/it]   "
          ]
        },
        {
          "name": "stdout",
          "output_type": "stream",
          "text": [
            "{'loss': 0.0201, 'grad_norm': 0.0003950319660361856, 'learning_rate': 1e-05, 'epoch': 8.0}\n"
          ]
        },
        {
          "name": "stderr",
          "output_type": "stream",
          "text": [
            "c:\\Users\\ASHUTOSH\\.conda\\envs\\test\\lib\\site-packages\\transformers\\generation\\utils.py:1220: UserWarning: Using the model-agnostic default `max_length` (=20) to control the generation length. We recommend setting `max_new_tokens` to control the maximum length of the generation.\n",
            "  warnings.warn(\n",
            "                                                        \n",
            " 80%|████████  | 5880/7350 [12:45:06<2:45:07,  6.74s/it]"
          ]
        },
        {
          "name": "stdout",
          "output_type": "stream",
          "text": [
            "{'eval_loss': 0.04646909609436989, 'eval_cer': 0.04220360824742268, 'eval_runtime': 662.0506, 'eval_samples_per_second': 2.38, 'eval_steps_per_second': 0.239, 'epoch': 8.0}\n"
          ]
        },
        {
          "name": "stderr",
          "output_type": "stream",
          "text": [
            " 90%|█████████ | 6615/7350 [14:10:23<1:21:50,  6.68s/it]  "
          ]
        },
        {
          "name": "stdout",
          "output_type": "stream",
          "text": [
            "{'loss': 0.0095, 'grad_norm': 0.013037205673754215, 'learning_rate': 5e-06, 'epoch': 9.0}\n"
          ]
        },
        {
          "name": "stderr",
          "output_type": "stream",
          "text": [
            "c:\\Users\\ASHUTOSH\\.conda\\envs\\test\\lib\\site-packages\\transformers\\generation\\utils.py:1220: UserWarning: Using the model-agnostic default `max_length` (=20) to control the generation length. We recommend setting `max_new_tokens` to control the maximum length of the generation.\n",
            "  warnings.warn(\n",
            "                                                        \n",
            " 90%|█████████ | 6615/7350 [14:21:21<1:21:50,  6.68s/it]"
          ]
        },
        {
          "name": "stdout",
          "output_type": "stream",
          "text": [
            "{'eval_loss': 0.05621664226055145, 'eval_cer': 0.03324742268041237, 'eval_runtime': 657.7152, 'eval_samples_per_second': 2.396, 'eval_steps_per_second': 0.24, 'epoch': 9.0}\n"
          ]
        },
        {
          "name": "stderr",
          "output_type": "stream",
          "text": [
            "100%|██████████| 7350/7350 [15:46:42<00:00,  6.71s/it]    "
          ]
        },
        {
          "name": "stdout",
          "output_type": "stream",
          "text": [
            "{'loss': 0.0075, 'grad_norm': 23.419857025146484, 'learning_rate': 0.0, 'epoch': 10.0}\n"
          ]
        },
        {
          "name": "stderr",
          "output_type": "stream",
          "text": [
            "c:\\Users\\ASHUTOSH\\.conda\\envs\\test\\lib\\site-packages\\transformers\\generation\\utils.py:1220: UserWarning: Using the model-agnostic default `max_length` (=20) to control the generation length. We recommend setting `max_new_tokens` to control the maximum length of the generation.\n",
            "  warnings.warn(\n",
            "                                                      \n",
            "100%|██████████| 7350/7350 [15:57:38<00:00,  6.71s/it]"
          ]
        },
        {
          "name": "stdout",
          "output_type": "stream",
          "text": [
            "{'eval_loss': 0.04089360684156418, 'eval_cer': 0.02860824742268041, 'eval_runtime': 656.1833, 'eval_samples_per_second': 2.402, 'eval_steps_per_second': 0.241, 'epoch': 10.0}\n"
          ]
        },
        {
          "name": "stderr",
          "output_type": "stream",
          "text": [
            "100%|██████████| 7350/7350 [15:57:40<00:00,  7.82s/it]\n"
          ]
        },
        {
          "name": "stdout",
          "output_type": "stream",
          "text": [
            "{'train_runtime': 57460.2933, 'train_samples_per_second': 1.279, 'train_steps_per_second': 0.128, 'train_loss': 0.14476655720042533, 'epoch': 10.0}\n"
          ]
        }
      ],
      "source": [
        "res = trainer.train()"
      ]
    },
    {
      "cell_type": "code",
      "execution_count": null,
      "metadata": {
        "id": "IcOIZOjHyAaB",
        "outputId": "da9bb3a1-e989-4480-8db9-7416dabaed56"
      },
      "outputs": [
        {
          "data": {
            "text/plain": [
              "TrainOutput(global_step=7350, training_loss=0.14476655720042533, metrics={'train_runtime': 57460.2933, 'train_samples_per_second': 1.279, 'train_steps_per_second': 0.128, 'total_flos': 8.791218278451118e+18, 'train_loss': 0.14476655720042533, 'epoch': 10.0})"
            ]
          },
          "execution_count": 35,
          "metadata": {},
          "output_type": "execute_result"
        }
      ],
      "source": [
        "res"
      ]
    },
    {
      "cell_type": "code",
      "execution_count": null,
      "metadata": {
        "id": "5Wf6UWnVyAaB",
        "outputId": "f6b01692-279e-479f-9598-ca9e234352be"
      },
      "outputs": [
        {
          "data": {
            "text/plain": [
              "7350"
            ]
          },
          "execution_count": 52,
          "metadata": {},
          "output_type": "execute_result"
        }
      ],
      "source": [
        "res.global_step"
      ]
    },
    {
      "cell_type": "markdown",
      "metadata": {
        "id": "qGNhmVKr8VhH"
      },
      "source": [
        "## Inference"
      ]
    },
    {
      "cell_type": "code",
      "execution_count": null,
      "metadata": {
        "id": "PA4IAx-W8VhI"
      },
      "outputs": [],
      "source": [
        "device = torch.device('cuda:0' if torch.cuda.is_available else 'cpu')"
      ]
    },
    {
      "cell_type": "code",
      "execution_count": null,
      "metadata": {
        "id": "7jWAlA188VhI"
      },
      "outputs": [],
      "source": [
        "processor = TrOCRProcessor.from_pretrained(ModelConfig.MODEL_NAME)\n",
        "# trained_model = VisionEncoderDecoderModel.from_pretrained('seq2seq_model_printed/checkpoint-'+str(res.global_step)).to(device)\n",
        "trained_model = VisionEncoderDecoderModel.from_pretrained('seq2seq_model_printed/checkpoint-'+str(res.global_step))"
      ]
    },
    {
      "cell_type": "code",
      "execution_count": null,
      "metadata": {
        "id": "X6Bm3j3gyAaB",
        "outputId": "1655bc39-3ea8-458a-acde-1f3ca0feba0a"
      },
      "outputs": [
        {
          "data": {
            "text/plain": [
              "VisionEncoderDecoderModel(\n",
              "  (encoder): DeiTModel(\n",
              "    (embeddings): DeiTEmbeddings(\n",
              "      (patch_embeddings): DeiTPatchEmbeddings(\n",
              "        (projection): Conv2d(3, 384, kernel_size=(16, 16), stride=(16, 16))\n",
              "      )\n",
              "      (dropout): Dropout(p=0.0, inplace=False)\n",
              "    )\n",
              "    (encoder): DeiTEncoder(\n",
              "      (layer): ModuleList(\n",
              "        (0-11): 12 x DeiTLayer(\n",
              "          (attention): DeiTAttention(\n",
              "            (attention): DeiTSelfAttention(\n",
              "              (query): Linear(in_features=384, out_features=384, bias=True)\n",
              "              (key): Linear(in_features=384, out_features=384, bias=True)\n",
              "              (value): Linear(in_features=384, out_features=384, bias=True)\n",
              "              (dropout): Dropout(p=0.0, inplace=False)\n",
              "            )\n",
              "            (output): DeiTSelfOutput(\n",
              "              (dense): Linear(in_features=384, out_features=384, bias=True)\n",
              "              (dropout): Dropout(p=0.0, inplace=False)\n",
              "            )\n",
              "          )\n",
              "          (intermediate): DeiTIntermediate(\n",
              "            (dense): Linear(in_features=384, out_features=1536, bias=True)\n",
              "            (intermediate_act_fn): GELUActivation()\n",
              "          )\n",
              "          (output): DeiTOutput(\n",
              "            (dense): Linear(in_features=1536, out_features=384, bias=True)\n",
              "            (dropout): Dropout(p=0.0, inplace=False)\n",
              "          )\n",
              "          (layernorm_before): LayerNorm((384,), eps=1e-12, elementwise_affine=True)\n",
              "          (layernorm_after): LayerNorm((384,), eps=1e-12, elementwise_affine=True)\n",
              "        )\n",
              "      )\n",
              "    )\n",
              "    (layernorm): LayerNorm((384,), eps=1e-12, elementwise_affine=True)\n",
              "    (pooler): DeiTPooler(\n",
              "      (dense): Linear(in_features=384, out_features=384, bias=True)\n",
              "      (activation): Tanh()\n",
              "    )\n",
              "  )\n",
              "  (decoder): TrOCRForCausalLM(\n",
              "    (model): TrOCRDecoderWrapper(\n",
              "      (decoder): TrOCRDecoder(\n",
              "        (embed_tokens): TrOCRScaledWordEmbedding(64044, 256, padding_idx=1)\n",
              "        (embed_positions): TrOCRLearnedPositionalEmbedding(514, 256)\n",
              "        (layernorm_embedding): LayerNorm((256,), eps=1e-05, elementwise_affine=True)\n",
              "        (layers): ModuleList(\n",
              "          (0-5): 6 x TrOCRDecoderLayer(\n",
              "            (self_attn): TrOCRAttention(\n",
              "              (k_proj): Linear(in_features=256, out_features=256, bias=True)\n",
              "              (v_proj): Linear(in_features=256, out_features=256, bias=True)\n",
              "              (q_proj): Linear(in_features=256, out_features=256, bias=True)\n",
              "              (out_proj): Linear(in_features=256, out_features=256, bias=True)\n",
              "            )\n",
              "            (activation_fn): ReLU()\n",
              "            (self_attn_layer_norm): LayerNorm((256,), eps=1e-05, elementwise_affine=True)\n",
              "            (encoder_attn): TrOCRAttention(\n",
              "              (k_proj): Linear(in_features=384, out_features=256, bias=True)\n",
              "              (v_proj): Linear(in_features=384, out_features=256, bias=True)\n",
              "              (q_proj): Linear(in_features=256, out_features=256, bias=True)\n",
              "              (out_proj): Linear(in_features=256, out_features=256, bias=True)\n",
              "            )\n",
              "            (encoder_attn_layer_norm): LayerNorm((256,), eps=1e-05, elementwise_affine=True)\n",
              "            (fc1): Linear(in_features=256, out_features=1024, bias=True)\n",
              "            (fc2): Linear(in_features=1024, out_features=256, bias=True)\n",
              "            (final_layer_norm): LayerNorm((256,), eps=1e-05, elementwise_affine=True)\n",
              "          )\n",
              "        )\n",
              "      )\n",
              "    )\n",
              "    (output_projection): Linear(in_features=256, out_features=64044, bias=False)\n",
              "  )\n",
              ")"
            ]
          },
          "execution_count": 41,
          "metadata": {},
          "output_type": "execute_result"
        }
      ],
      "source": [
        "trained_model"
      ]
    },
    {
      "cell_type": "markdown",
      "source": [
        "## Saving Model checkpoint"
      ],
      "metadata": {
        "id": "0-QCDbEhztZz"
      }
    },
    {
      "cell_type": "code",
      "execution_count": null,
      "metadata": {
        "id": "dfjTkBlEyAaB"
      },
      "outputs": [],
      "source": [
        "# prompt: give code to zip folder\n",
        "\n",
        "import zipfile\n",
        "\n",
        "def zip_folder(folder_path, zip_path):\n",
        "  \"\"\"Zips a folder.\n",
        "\n",
        "  Args:\n",
        "      folder_path: Path to the folder to zip.\n",
        "      zip_path: Path to the output zip file.\n",
        "  \"\"\"\n",
        "  with zipfile.ZipFile(zip_path, 'w', zipfile.ZIP_DEFLATED) as zipf:\n",
        "    for root, _, files in os.walk(folder_path):\n",
        "      for file in files:\n",
        "        zipf.write(os.path.join(root, file),\n",
        "                   os.path.relpath(os.path.join(root, file),\n",
        "                                   os.path.join(folder_path, '..')))\n",
        "\n",
        "# Example usage:\n",
        "zip_folder('/content/seq2seq_model_printed/checkpoint-15625', '/content/checkpoint-15625.zip')\n"
      ]
    },
    {
      "cell_type": "code",
      "execution_count": null,
      "metadata": {
        "id": "ob8oHUKoyAaB"
      },
      "outputs": [],
      "source": []
    },
    {
      "cell_type": "code",
      "execution_count": null,
      "metadata": {
        "id": "ogPXdp1lyAaB"
      },
      "outputs": [],
      "source": []
    }
  ],
  "metadata": {
    "accelerator": "GPU",
    "colab": {
      "gpuType": "T4",
      "provenance": []
    },
    "kernelspec": {
      "display_name": "test",
      "language": "python",
      "name": "python3"
    },
    "language_info": {
      "codemirror_mode": {
        "name": "ipython",
        "version": 3
      },
      "file_extension": ".py",
      "mimetype": "text/x-python",
      "name": "python",
      "nbconvert_exporter": "python",
      "pygments_lexer": "ipython3",
      "version": "3.10.14"
    },
    "widgets": {
      "application/vnd.jupyter.widget-state+json": {
        "16f1827ddf2342f19282122ac868766d": {
          "model_module": "@jupyter-widgets/controls",
          "model_module_version": "1.5.0",
          "model_name": "FloatProgressModel",
          "state": {
            "_dom_classes": [],
            "_model_module": "@jupyter-widgets/controls",
            "_model_module_version": "1.5.0",
            "_model_name": "FloatProgressModel",
            "_view_count": null,
            "_view_module": "@jupyter-widgets/controls",
            "_view_module_version": "1.5.0",
            "_view_name": "ProgressView",
            "bar_style": "success",
            "description": "",
            "description_tooltip": null,
            "layout": "IPY_MODEL_f4966e0395ae4763b7ed276836709e93",
            "max": 190,
            "min": 0,
            "orientation": "horizontal",
            "style": "IPY_MODEL_d2764c5346734b288bf1377c692f23a8",
            "value": 190
          }
        },
        "17ec8607823f4884b7cbeddb569ef301": {
          "model_module": "@jupyter-widgets/controls",
          "model_module_version": "1.5.0",
          "model_name": "HTMLModel",
          "state": {
            "_dom_classes": [],
            "_model_module": "@jupyter-widgets/controls",
            "_model_module_version": "1.5.0",
            "_model_name": "HTMLModel",
            "_view_count": null,
            "_view_module": "@jupyter-widgets/controls",
            "_view_module_version": "1.5.0",
            "_view_name": "HTMLView",
            "description": "",
            "description_tooltip": null,
            "layout": "IPY_MODEL_9d0bd1c3f2104ffb87a7b5cae3827bb5",
            "placeholder": "​",
            "style": "IPY_MODEL_3bce1248c9b74007a8474e466b20f371",
            "value": " 4.21k/4.21k [00:00&lt;00:00, 256kB/s]"
          }
        },
        "18c95b15743644b9990afa548066ba4d": {
          "model_module": "@jupyter-widgets/controls",
          "model_module_version": "1.5.0",
          "model_name": "HTMLModel",
          "state": {
            "_dom_classes": [],
            "_model_module": "@jupyter-widgets/controls",
            "_model_module_version": "1.5.0",
            "_model_name": "HTMLModel",
            "_view_count": null,
            "_view_module": "@jupyter-widgets/controls",
            "_view_module_version": "1.5.0",
            "_view_name": "HTMLView",
            "description": "",
            "description_tooltip": null,
            "layout": "IPY_MODEL_bb20ff91d04449f09d1131fff48ec394",
            "placeholder": "​",
            "style": "IPY_MODEL_3a5bf1f3ac0e4ed28e73d10c00ecb0d2",
            "value": "Downloading pytorch_model.bin: 100%"
          }
        },
        "1c0b250ec0594d008b0ea6016aa7daac": {
          "model_module": "@jupyter-widgets/controls",
          "model_module_version": "1.5.0",
          "model_name": "HTMLModel",
          "state": {
            "_dom_classes": [],
            "_model_module": "@jupyter-widgets/controls",
            "_model_module_version": "1.5.0",
            "_model_name": "HTMLModel",
            "_view_count": null,
            "_view_module": "@jupyter-widgets/controls",
            "_view_module_version": "1.5.0",
            "_view_name": "HTMLView",
            "description": "",
            "description_tooltip": null,
            "layout": "IPY_MODEL_73eab676db4a498c8ed8c1bfc231b1ec",
            "placeholder": "​",
            "style": "IPY_MODEL_bd672655e79a45f4b5c88681e0a73573",
            "value": "Downloading (…)lve/main/config.json: 100%"
          }
        },
        "1d2ff137c94d4cf38385746ec76ff2dc": {
          "model_module": "@jupyter-widgets/base",
          "model_module_version": "1.2.0",
          "model_name": "LayoutModel",
          "state": {
            "_model_module": "@jupyter-widgets/base",
            "_model_module_version": "1.2.0",
            "_model_name": "LayoutModel",
            "_view_count": null,
            "_view_module": "@jupyter-widgets/base",
            "_view_module_version": "1.2.0",
            "_view_name": "LayoutView",
            "align_content": null,
            "align_items": null,
            "align_self": null,
            "border": null,
            "bottom": null,
            "display": null,
            "flex": null,
            "flex_flow": null,
            "grid_area": null,
            "grid_auto_columns": null,
            "grid_auto_flow": null,
            "grid_auto_rows": null,
            "grid_column": null,
            "grid_gap": null,
            "grid_row": null,
            "grid_template_areas": null,
            "grid_template_columns": null,
            "grid_template_rows": null,
            "height": null,
            "justify_content": null,
            "justify_items": null,
            "left": null,
            "margin": null,
            "max_height": null,
            "max_width": null,
            "min_height": null,
            "min_width": null,
            "object_fit": null,
            "object_position": null,
            "order": null,
            "overflow": null,
            "overflow_x": null,
            "overflow_y": null,
            "padding": null,
            "right": null,
            "top": null,
            "visibility": null,
            "width": null
          }
        },
        "316ad79399c8445bb1ac8ae76b2e1a0a": {
          "model_module": "@jupyter-widgets/controls",
          "model_module_version": "1.5.0",
          "model_name": "HBoxModel",
          "state": {
            "_dom_classes": [],
            "_model_module": "@jupyter-widgets/controls",
            "_model_module_version": "1.5.0",
            "_model_name": "HBoxModel",
            "_view_count": null,
            "_view_module": "@jupyter-widgets/controls",
            "_view_module_version": "1.5.0",
            "_view_name": "HBoxView",
            "box_style": "",
            "children": [
              "IPY_MODEL_18c95b15743644b9990afa548066ba4d",
              "IPY_MODEL_d0e23da546da42ada17980fe16bb2c8c",
              "IPY_MODEL_ecc3e476985b4cd59ead7470eb888899"
            ],
            "layout": "IPY_MODEL_1d2ff137c94d4cf38385746ec76ff2dc"
          }
        },
        "3a5bf1f3ac0e4ed28e73d10c00ecb0d2": {
          "model_module": "@jupyter-widgets/controls",
          "model_module_version": "1.5.0",
          "model_name": "DescriptionStyleModel",
          "state": {
            "_model_module": "@jupyter-widgets/controls",
            "_model_module_version": "1.5.0",
            "_model_name": "DescriptionStyleModel",
            "_view_count": null,
            "_view_module": "@jupyter-widgets/base",
            "_view_module_version": "1.2.0",
            "_view_name": "StyleView",
            "description_width": ""
          }
        },
        "3b9b18917f024b7799c3af53647101c3": {
          "model_module": "@jupyter-widgets/base",
          "model_module_version": "1.2.0",
          "model_name": "LayoutModel",
          "state": {
            "_model_module": "@jupyter-widgets/base",
            "_model_module_version": "1.2.0",
            "_model_name": "LayoutModel",
            "_view_count": null,
            "_view_module": "@jupyter-widgets/base",
            "_view_module_version": "1.2.0",
            "_view_name": "LayoutView",
            "align_content": null,
            "align_items": null,
            "align_self": null,
            "border": null,
            "bottom": null,
            "display": null,
            "flex": null,
            "flex_flow": null,
            "grid_area": null,
            "grid_auto_columns": null,
            "grid_auto_flow": null,
            "grid_auto_rows": null,
            "grid_column": null,
            "grid_gap": null,
            "grid_row": null,
            "grid_template_areas": null,
            "grid_template_columns": null,
            "grid_template_rows": null,
            "height": null,
            "justify_content": null,
            "justify_items": null,
            "left": null,
            "margin": null,
            "max_height": null,
            "max_width": null,
            "min_height": null,
            "min_width": null,
            "object_fit": null,
            "object_position": null,
            "order": null,
            "overflow": null,
            "overflow_x": null,
            "overflow_y": null,
            "padding": null,
            "right": null,
            "top": null,
            "visibility": null,
            "width": null
          }
        },
        "3bce1248c9b74007a8474e466b20f371": {
          "model_module": "@jupyter-widgets/controls",
          "model_module_version": "1.5.0",
          "model_name": "DescriptionStyleModel",
          "state": {
            "_model_module": "@jupyter-widgets/controls",
            "_model_module_version": "1.5.0",
            "_model_name": "DescriptionStyleModel",
            "_view_count": null,
            "_view_module": "@jupyter-widgets/base",
            "_view_module_version": "1.2.0",
            "_view_name": "StyleView",
            "description_width": ""
          }
        },
        "3e905dee5f524e0f9a98692dd16a23d7": {
          "model_module": "@jupyter-widgets/controls",
          "model_module_version": "1.5.0",
          "model_name": "HTMLModel",
          "state": {
            "_dom_classes": [],
            "_model_module": "@jupyter-widgets/controls",
            "_model_module_version": "1.5.0",
            "_model_name": "HTMLModel",
            "_view_count": null,
            "_view_module": "@jupyter-widgets/controls",
            "_view_module_version": "1.5.0",
            "_view_name": "HTMLView",
            "description": "",
            "description_tooltip": null,
            "layout": "IPY_MODEL_407376985acc4c8997fc950925c0784f",
            "placeholder": "​",
            "style": "IPY_MODEL_d9c96000951a4e9eaed409c67d6a130f",
            "value": "Downloading (…)neration_config.json: 100%"
          }
        },
        "407376985acc4c8997fc950925c0784f": {
          "model_module": "@jupyter-widgets/base",
          "model_module_version": "1.2.0",
          "model_name": "LayoutModel",
          "state": {
            "_model_module": "@jupyter-widgets/base",
            "_model_module_version": "1.2.0",
            "_model_name": "LayoutModel",
            "_view_count": null,
            "_view_module": "@jupyter-widgets/base",
            "_view_module_version": "1.2.0",
            "_view_name": "LayoutView",
            "align_content": null,
            "align_items": null,
            "align_self": null,
            "border": null,
            "bottom": null,
            "display": null,
            "flex": null,
            "flex_flow": null,
            "grid_area": null,
            "grid_auto_columns": null,
            "grid_auto_flow": null,
            "grid_auto_rows": null,
            "grid_column": null,
            "grid_gap": null,
            "grid_row": null,
            "grid_template_areas": null,
            "grid_template_columns": null,
            "grid_template_rows": null,
            "height": null,
            "justify_content": null,
            "justify_items": null,
            "left": null,
            "margin": null,
            "max_height": null,
            "max_width": null,
            "min_height": null,
            "min_width": null,
            "object_fit": null,
            "object_position": null,
            "order": null,
            "overflow": null,
            "overflow_x": null,
            "overflow_y": null,
            "padding": null,
            "right": null,
            "top": null,
            "visibility": null,
            "width": null
          }
        },
        "4171d68ec7c8406497dc0eb9201109de": {
          "model_module": "@jupyter-widgets/base",
          "model_module_version": "1.2.0",
          "model_name": "LayoutModel",
          "state": {
            "_model_module": "@jupyter-widgets/base",
            "_model_module_version": "1.2.0",
            "_model_name": "LayoutModel",
            "_view_count": null,
            "_view_module": "@jupyter-widgets/base",
            "_view_module_version": "1.2.0",
            "_view_name": "LayoutView",
            "align_content": null,
            "align_items": null,
            "align_self": null,
            "border": null,
            "bottom": null,
            "display": null,
            "flex": null,
            "flex_flow": null,
            "grid_area": null,
            "grid_auto_columns": null,
            "grid_auto_flow": null,
            "grid_auto_rows": null,
            "grid_column": null,
            "grid_gap": null,
            "grid_row": null,
            "grid_template_areas": null,
            "grid_template_columns": null,
            "grid_template_rows": null,
            "height": null,
            "justify_content": null,
            "justify_items": null,
            "left": null,
            "margin": null,
            "max_height": null,
            "max_width": null,
            "min_height": null,
            "min_width": null,
            "object_fit": null,
            "object_position": null,
            "order": null,
            "overflow": null,
            "overflow_x": null,
            "overflow_y": null,
            "padding": null,
            "right": null,
            "top": null,
            "visibility": null,
            "width": null
          }
        },
        "5af3ee5c42234d30bf211ec981f140e1": {
          "model_module": "@jupyter-widgets/controls",
          "model_module_version": "1.5.0",
          "model_name": "DescriptionStyleModel",
          "state": {
            "_model_module": "@jupyter-widgets/controls",
            "_model_module_version": "1.5.0",
            "_model_name": "DescriptionStyleModel",
            "_view_count": null,
            "_view_module": "@jupyter-widgets/base",
            "_view_module_version": "1.2.0",
            "_view_name": "StyleView",
            "description_width": ""
          }
        },
        "5e56ae6d205548168545937e81a803b5": {
          "model_module": "@jupyter-widgets/controls",
          "model_module_version": "1.5.0",
          "model_name": "HTMLModel",
          "state": {
            "_dom_classes": [],
            "_model_module": "@jupyter-widgets/controls",
            "_model_module_version": "1.5.0",
            "_model_name": "HTMLModel",
            "_view_count": null,
            "_view_module": "@jupyter-widgets/controls",
            "_view_module_version": "1.5.0",
            "_view_name": "HTMLView",
            "description": "",
            "description_tooltip": null,
            "layout": "IPY_MODEL_3b9b18917f024b7799c3af53647101c3",
            "placeholder": "​",
            "style": "IPY_MODEL_dea810b298924fd980c18c4e31e48cb8",
            "value": " 190/190 [00:00&lt;00:00, 12.3kB/s]"
          }
        },
        "6e21f92aebf44e3bb5d1ba78252e292a": {
          "model_module": "@jupyter-widgets/base",
          "model_module_version": "1.2.0",
          "model_name": "LayoutModel",
          "state": {
            "_model_module": "@jupyter-widgets/base",
            "_model_module_version": "1.2.0",
            "_model_name": "LayoutModel",
            "_view_count": null,
            "_view_module": "@jupyter-widgets/base",
            "_view_module_version": "1.2.0",
            "_view_name": "LayoutView",
            "align_content": null,
            "align_items": null,
            "align_self": null,
            "border": null,
            "bottom": null,
            "display": null,
            "flex": null,
            "flex_flow": null,
            "grid_area": null,
            "grid_auto_columns": null,
            "grid_auto_flow": null,
            "grid_auto_rows": null,
            "grid_column": null,
            "grid_gap": null,
            "grid_row": null,
            "grid_template_areas": null,
            "grid_template_columns": null,
            "grid_template_rows": null,
            "height": null,
            "justify_content": null,
            "justify_items": null,
            "left": null,
            "margin": null,
            "max_height": null,
            "max_width": null,
            "min_height": null,
            "min_width": null,
            "object_fit": null,
            "object_position": null,
            "order": null,
            "overflow": null,
            "overflow_x": null,
            "overflow_y": null,
            "padding": null,
            "right": null,
            "top": null,
            "visibility": null,
            "width": null
          }
        },
        "73eab676db4a498c8ed8c1bfc231b1ec": {
          "model_module": "@jupyter-widgets/base",
          "model_module_version": "1.2.0",
          "model_name": "LayoutModel",
          "state": {
            "_model_module": "@jupyter-widgets/base",
            "_model_module_version": "1.2.0",
            "_model_name": "LayoutModel",
            "_view_count": null,
            "_view_module": "@jupyter-widgets/base",
            "_view_module_version": "1.2.0",
            "_view_name": "LayoutView",
            "align_content": null,
            "align_items": null,
            "align_self": null,
            "border": null,
            "bottom": null,
            "display": null,
            "flex": null,
            "flex_flow": null,
            "grid_area": null,
            "grid_auto_columns": null,
            "grid_auto_flow": null,
            "grid_auto_rows": null,
            "grid_column": null,
            "grid_gap": null,
            "grid_row": null,
            "grid_template_areas": null,
            "grid_template_columns": null,
            "grid_template_rows": null,
            "height": null,
            "justify_content": null,
            "justify_items": null,
            "left": null,
            "margin": null,
            "max_height": null,
            "max_width": null,
            "min_height": null,
            "min_width": null,
            "object_fit": null,
            "object_position": null,
            "order": null,
            "overflow": null,
            "overflow_x": null,
            "overflow_y": null,
            "padding": null,
            "right": null,
            "top": null,
            "visibility": null,
            "width": null
          }
        },
        "819ca1230e574c91a3f47fbbf551e0d2": {
          "model_module": "@jupyter-widgets/controls",
          "model_module_version": "1.5.0",
          "model_name": "HBoxModel",
          "state": {
            "_dom_classes": [],
            "_model_module": "@jupyter-widgets/controls",
            "_model_module_version": "1.5.0",
            "_model_name": "HBoxModel",
            "_view_count": null,
            "_view_module": "@jupyter-widgets/controls",
            "_view_module_version": "1.5.0",
            "_view_name": "HBoxView",
            "box_style": "",
            "children": [
              "IPY_MODEL_1c0b250ec0594d008b0ea6016aa7daac",
              "IPY_MODEL_9636d49865ee4e06890b03aac03ad9a2",
              "IPY_MODEL_17ec8607823f4884b7cbeddb569ef301"
            ],
            "layout": "IPY_MODEL_4171d68ec7c8406497dc0eb9201109de"
          }
        },
        "8755bd3e3c6d4326aeea862c311db1ce": {
          "model_module": "@jupyter-widgets/controls",
          "model_module_version": "1.5.0",
          "model_name": "ProgressStyleModel",
          "state": {
            "_model_module": "@jupyter-widgets/controls",
            "_model_module_version": "1.5.0",
            "_model_name": "ProgressStyleModel",
            "_view_count": null,
            "_view_module": "@jupyter-widgets/base",
            "_view_module_version": "1.2.0",
            "_view_name": "StyleView",
            "bar_color": null,
            "description_width": ""
          }
        },
        "9636d49865ee4e06890b03aac03ad9a2": {
          "model_module": "@jupyter-widgets/controls",
          "model_module_version": "1.5.0",
          "model_name": "FloatProgressModel",
          "state": {
            "_dom_classes": [],
            "_model_module": "@jupyter-widgets/controls",
            "_model_module_version": "1.5.0",
            "_model_name": "FloatProgressModel",
            "_view_count": null,
            "_view_module": "@jupyter-widgets/controls",
            "_view_module_version": "1.5.0",
            "_view_name": "ProgressView",
            "bar_style": "success",
            "description": "",
            "description_tooltip": null,
            "layout": "IPY_MODEL_6e21f92aebf44e3bb5d1ba78252e292a",
            "max": 4211,
            "min": 0,
            "orientation": "horizontal",
            "style": "IPY_MODEL_a8b9dfcceaf748c2906909db8074d19d",
            "value": 4211
          }
        },
        "9d0bd1c3f2104ffb87a7b5cae3827bb5": {
          "model_module": "@jupyter-widgets/base",
          "model_module_version": "1.2.0",
          "model_name": "LayoutModel",
          "state": {
            "_model_module": "@jupyter-widgets/base",
            "_model_module_version": "1.2.0",
            "_model_name": "LayoutModel",
            "_view_count": null,
            "_view_module": "@jupyter-widgets/base",
            "_view_module_version": "1.2.0",
            "_view_name": "LayoutView",
            "align_content": null,
            "align_items": null,
            "align_self": null,
            "border": null,
            "bottom": null,
            "display": null,
            "flex": null,
            "flex_flow": null,
            "grid_area": null,
            "grid_auto_columns": null,
            "grid_auto_flow": null,
            "grid_auto_rows": null,
            "grid_column": null,
            "grid_gap": null,
            "grid_row": null,
            "grid_template_areas": null,
            "grid_template_columns": null,
            "grid_template_rows": null,
            "height": null,
            "justify_content": null,
            "justify_items": null,
            "left": null,
            "margin": null,
            "max_height": null,
            "max_width": null,
            "min_height": null,
            "min_width": null,
            "object_fit": null,
            "object_position": null,
            "order": null,
            "overflow": null,
            "overflow_x": null,
            "overflow_y": null,
            "padding": null,
            "right": null,
            "top": null,
            "visibility": null,
            "width": null
          }
        },
        "9e157ab805e34e24bd9f35f8a5edace6": {
          "model_module": "@jupyter-widgets/base",
          "model_module_version": "1.2.0",
          "model_name": "LayoutModel",
          "state": {
            "_model_module": "@jupyter-widgets/base",
            "_model_module_version": "1.2.0",
            "_model_name": "LayoutModel",
            "_view_count": null,
            "_view_module": "@jupyter-widgets/base",
            "_view_module_version": "1.2.0",
            "_view_name": "LayoutView",
            "align_content": null,
            "align_items": null,
            "align_self": null,
            "border": null,
            "bottom": null,
            "display": null,
            "flex": null,
            "flex_flow": null,
            "grid_area": null,
            "grid_auto_columns": null,
            "grid_auto_flow": null,
            "grid_auto_rows": null,
            "grid_column": null,
            "grid_gap": null,
            "grid_row": null,
            "grid_template_areas": null,
            "grid_template_columns": null,
            "grid_template_rows": null,
            "height": null,
            "justify_content": null,
            "justify_items": null,
            "left": null,
            "margin": null,
            "max_height": null,
            "max_width": null,
            "min_height": null,
            "min_width": null,
            "object_fit": null,
            "object_position": null,
            "order": null,
            "overflow": null,
            "overflow_x": null,
            "overflow_y": null,
            "padding": null,
            "right": null,
            "top": null,
            "visibility": null,
            "width": null
          }
        },
        "a8b9dfcceaf748c2906909db8074d19d": {
          "model_module": "@jupyter-widgets/controls",
          "model_module_version": "1.5.0",
          "model_name": "ProgressStyleModel",
          "state": {
            "_model_module": "@jupyter-widgets/controls",
            "_model_module_version": "1.5.0",
            "_model_name": "ProgressStyleModel",
            "_view_count": null,
            "_view_module": "@jupyter-widgets/base",
            "_view_module_version": "1.2.0",
            "_view_name": "StyleView",
            "bar_color": null,
            "description_width": ""
          }
        },
        "b0a199bec4ae4644aaed42aee664ecc3": {
          "model_module": "@jupyter-widgets/base",
          "model_module_version": "1.2.0",
          "model_name": "LayoutModel",
          "state": {
            "_model_module": "@jupyter-widgets/base",
            "_model_module_version": "1.2.0",
            "_model_name": "LayoutModel",
            "_view_count": null,
            "_view_module": "@jupyter-widgets/base",
            "_view_module_version": "1.2.0",
            "_view_name": "LayoutView",
            "align_content": null,
            "align_items": null,
            "align_self": null,
            "border": null,
            "bottom": null,
            "display": null,
            "flex": null,
            "flex_flow": null,
            "grid_area": null,
            "grid_auto_columns": null,
            "grid_auto_flow": null,
            "grid_auto_rows": null,
            "grid_column": null,
            "grid_gap": null,
            "grid_row": null,
            "grid_template_areas": null,
            "grid_template_columns": null,
            "grid_template_rows": null,
            "height": null,
            "justify_content": null,
            "justify_items": null,
            "left": null,
            "margin": null,
            "max_height": null,
            "max_width": null,
            "min_height": null,
            "min_width": null,
            "object_fit": null,
            "object_position": null,
            "order": null,
            "overflow": null,
            "overflow_x": null,
            "overflow_y": null,
            "padding": null,
            "right": null,
            "top": null,
            "visibility": null,
            "width": null
          }
        },
        "bb20ff91d04449f09d1131fff48ec394": {
          "model_module": "@jupyter-widgets/base",
          "model_module_version": "1.2.0",
          "model_name": "LayoutModel",
          "state": {
            "_model_module": "@jupyter-widgets/base",
            "_model_module_version": "1.2.0",
            "_model_name": "LayoutModel",
            "_view_count": null,
            "_view_module": "@jupyter-widgets/base",
            "_view_module_version": "1.2.0",
            "_view_name": "LayoutView",
            "align_content": null,
            "align_items": null,
            "align_self": null,
            "border": null,
            "bottom": null,
            "display": null,
            "flex": null,
            "flex_flow": null,
            "grid_area": null,
            "grid_auto_columns": null,
            "grid_auto_flow": null,
            "grid_auto_rows": null,
            "grid_column": null,
            "grid_gap": null,
            "grid_row": null,
            "grid_template_areas": null,
            "grid_template_columns": null,
            "grid_template_rows": null,
            "height": null,
            "justify_content": null,
            "justify_items": null,
            "left": null,
            "margin": null,
            "max_height": null,
            "max_width": null,
            "min_height": null,
            "min_width": null,
            "object_fit": null,
            "object_position": null,
            "order": null,
            "overflow": null,
            "overflow_x": null,
            "overflow_y": null,
            "padding": null,
            "right": null,
            "top": null,
            "visibility": null,
            "width": null
          }
        },
        "bd672655e79a45f4b5c88681e0a73573": {
          "model_module": "@jupyter-widgets/controls",
          "model_module_version": "1.5.0",
          "model_name": "DescriptionStyleModel",
          "state": {
            "_model_module": "@jupyter-widgets/controls",
            "_model_module_version": "1.5.0",
            "_model_name": "DescriptionStyleModel",
            "_view_count": null,
            "_view_module": "@jupyter-widgets/base",
            "_view_module_version": "1.2.0",
            "_view_name": "StyleView",
            "description_width": ""
          }
        },
        "c4ad8fd009c74643a2237498099fedb6": {
          "model_module": "@jupyter-widgets/base",
          "model_module_version": "1.2.0",
          "model_name": "LayoutModel",
          "state": {
            "_model_module": "@jupyter-widgets/base",
            "_model_module_version": "1.2.0",
            "_model_name": "LayoutModel",
            "_view_count": null,
            "_view_module": "@jupyter-widgets/base",
            "_view_module_version": "1.2.0",
            "_view_name": "LayoutView",
            "align_content": null,
            "align_items": null,
            "align_self": null,
            "border": null,
            "bottom": null,
            "display": null,
            "flex": null,
            "flex_flow": null,
            "grid_area": null,
            "grid_auto_columns": null,
            "grid_auto_flow": null,
            "grid_auto_rows": null,
            "grid_column": null,
            "grid_gap": null,
            "grid_row": null,
            "grid_template_areas": null,
            "grid_template_columns": null,
            "grid_template_rows": null,
            "height": null,
            "justify_content": null,
            "justify_items": null,
            "left": null,
            "margin": null,
            "max_height": null,
            "max_width": null,
            "min_height": null,
            "min_width": null,
            "object_fit": null,
            "object_position": null,
            "order": null,
            "overflow": null,
            "overflow_x": null,
            "overflow_y": null,
            "padding": null,
            "right": null,
            "top": null,
            "visibility": null,
            "width": null
          }
        },
        "d0e23da546da42ada17980fe16bb2c8c": {
          "model_module": "@jupyter-widgets/controls",
          "model_module_version": "1.5.0",
          "model_name": "FloatProgressModel",
          "state": {
            "_dom_classes": [],
            "_model_module": "@jupyter-widgets/controls",
            "_model_module_version": "1.5.0",
            "_model_name": "FloatProgressModel",
            "_view_count": null,
            "_view_module": "@jupyter-widgets/controls",
            "_view_module_version": "1.5.0",
            "_view_name": "ProgressView",
            "bar_style": "success",
            "description": "",
            "description_tooltip": null,
            "layout": "IPY_MODEL_b0a199bec4ae4644aaed42aee664ecc3",
            "max": 245933041,
            "min": 0,
            "orientation": "horizontal",
            "style": "IPY_MODEL_8755bd3e3c6d4326aeea862c311db1ce",
            "value": 245933041
          }
        },
        "d2764c5346734b288bf1377c692f23a8": {
          "model_module": "@jupyter-widgets/controls",
          "model_module_version": "1.5.0",
          "model_name": "ProgressStyleModel",
          "state": {
            "_model_module": "@jupyter-widgets/controls",
            "_model_module_version": "1.5.0",
            "_model_name": "ProgressStyleModel",
            "_view_count": null,
            "_view_module": "@jupyter-widgets/base",
            "_view_module_version": "1.2.0",
            "_view_name": "StyleView",
            "bar_color": null,
            "description_width": ""
          }
        },
        "d9c96000951a4e9eaed409c67d6a130f": {
          "model_module": "@jupyter-widgets/controls",
          "model_module_version": "1.5.0",
          "model_name": "DescriptionStyleModel",
          "state": {
            "_model_module": "@jupyter-widgets/controls",
            "_model_module_version": "1.5.0",
            "_model_name": "DescriptionStyleModel",
            "_view_count": null,
            "_view_module": "@jupyter-widgets/base",
            "_view_module_version": "1.2.0",
            "_view_name": "StyleView",
            "description_width": ""
          }
        },
        "dea810b298924fd980c18c4e31e48cb8": {
          "model_module": "@jupyter-widgets/controls",
          "model_module_version": "1.5.0",
          "model_name": "DescriptionStyleModel",
          "state": {
            "_model_module": "@jupyter-widgets/controls",
            "_model_module_version": "1.5.0",
            "_model_name": "DescriptionStyleModel",
            "_view_count": null,
            "_view_module": "@jupyter-widgets/base",
            "_view_module_version": "1.2.0",
            "_view_name": "StyleView",
            "description_width": ""
          }
        },
        "e5e68858cfb24ff5bb743aaca5b4c530": {
          "model_module": "@jupyter-widgets/controls",
          "model_module_version": "1.5.0",
          "model_name": "HBoxModel",
          "state": {
            "_dom_classes": [],
            "_model_module": "@jupyter-widgets/controls",
            "_model_module_version": "1.5.0",
            "_model_name": "HBoxModel",
            "_view_count": null,
            "_view_module": "@jupyter-widgets/controls",
            "_view_module_version": "1.5.0",
            "_view_name": "HBoxView",
            "box_style": "",
            "children": [
              "IPY_MODEL_3e905dee5f524e0f9a98692dd16a23d7",
              "IPY_MODEL_16f1827ddf2342f19282122ac868766d",
              "IPY_MODEL_5e56ae6d205548168545937e81a803b5"
            ],
            "layout": "IPY_MODEL_9e157ab805e34e24bd9f35f8a5edace6"
          }
        },
        "ecc3e476985b4cd59ead7470eb888899": {
          "model_module": "@jupyter-widgets/controls",
          "model_module_version": "1.5.0",
          "model_name": "HTMLModel",
          "state": {
            "_dom_classes": [],
            "_model_module": "@jupyter-widgets/controls",
            "_model_module_version": "1.5.0",
            "_model_name": "HTMLModel",
            "_view_count": null,
            "_view_module": "@jupyter-widgets/controls",
            "_view_module_version": "1.5.0",
            "_view_name": "HTMLView",
            "description": "",
            "description_tooltip": null,
            "layout": "IPY_MODEL_c4ad8fd009c74643a2237498099fedb6",
            "placeholder": "​",
            "style": "IPY_MODEL_5af3ee5c42234d30bf211ec981f140e1",
            "value": " 246M/246M [00:00&lt;00:00, 303MB/s]"
          }
        },
        "f4966e0395ae4763b7ed276836709e93": {
          "model_module": "@jupyter-widgets/base",
          "model_module_version": "1.2.0",
          "model_name": "LayoutModel",
          "state": {
            "_model_module": "@jupyter-widgets/base",
            "_model_module_version": "1.2.0",
            "_model_name": "LayoutModel",
            "_view_count": null,
            "_view_module": "@jupyter-widgets/base",
            "_view_module_version": "1.2.0",
            "_view_name": "LayoutView",
            "align_content": null,
            "align_items": null,
            "align_self": null,
            "border": null,
            "bottom": null,
            "display": null,
            "flex": null,
            "flex_flow": null,
            "grid_area": null,
            "grid_auto_columns": null,
            "grid_auto_flow": null,
            "grid_auto_rows": null,
            "grid_column": null,
            "grid_gap": null,
            "grid_row": null,
            "grid_template_areas": null,
            "grid_template_columns": null,
            "grid_template_rows": null,
            "height": null,
            "justify_content": null,
            "justify_items": null,
            "left": null,
            "margin": null,
            "max_height": null,
            "max_width": null,
            "min_height": null,
            "min_width": null,
            "object_fit": null,
            "object_position": null,
            "order": null,
            "overflow": null,
            "overflow_x": null,
            "overflow_y": null,
            "padding": null,
            "right": null,
            "top": null,
            "visibility": null,
            "width": null
          }
        }
      }
    }
  },
  "nbformat": 4,
  "nbformat_minor": 0
}